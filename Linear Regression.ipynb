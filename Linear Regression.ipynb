{
 "cells": [
  {
   "cell_type": "code",
   "execution_count": 10,
   "metadata": {},
   "outputs": [],
   "source": [
    "import pandas as pd\n",
    "import numpy as np\n",
    "import matplotlib.pyplot as plt\n",
    "from sklearn.linear_model import LinearRegression\n",
    "from scipy.optimize import minimize"
   ]
  },
  {
   "cell_type": "code",
   "execution_count": 2,
   "metadata": {},
   "outputs": [],
   "source": [
    "data = pd.read_csv('E:\\Fall 19\\Projects\\project0.7.csv')\n",
    "X = data.iloc[:, 0]\n",
    "Y = data.iloc[:, 1]"
   ]
  },
  {
   "cell_type": "code",
   "execution_count": 16,
   "metadata": {},
   "outputs": [
    {
     "data": {
      "image/png": "[encoded data removed]",
      "text/plain": [
       "<Figure size 432x288 with 1 Axes>"
      ]
     },
     "metadata": {
      "needs_background": "light"
     },
     "output_type": "display_data"
    }
   ],
   "source": [
    "plt.scatter(X, Y, color = 'red')\n",
    "plt.plot(X, regressor.predict(X), color = 'blue')\n",
    "plt.show()"
   ]
  },
  {
   "cell_type": "markdown",
   "metadata": {},
   "source": [
    "Linear regression using manual calculation of intercept and slope"
   ]
  },
  {
   "cell_type": "code",
   "execution_count": 14,
   "metadata": {},
   "outputs": [
    {
     "name": "stdout",
     "output_type": "stream",
     "text": [
      "101.61132752008086 0.1495426522843597\n"
     ]
    }
   ],
   "source": [
    "X_mean = np.mean(X)\n",
    "Y_mean = np.mean(Y)\n",
    "num = 0\n",
    "den = 0\n",
    "for i in range(len(X)):\n",
    "\n",
    "    num += (X[i] - X_mean)*(Y[i] - Y_mean)\n",
    "\n",
    "    den += (X[i] - X_mean)**2\n",
    "\n",
    "m = num / den\n",
    "c = Y_mean - m*X_mean\n",
    "print (c, m)"
   ]
  },
  {
   "cell_type": "markdown",
   "metadata": {},
   "source": [
    "Linear regression using linearRegression() model from sklearn"
   ]
  },
  {
   "cell_type": "code",
   "execution_count": 15,
   "metadata": {},
   "outputs": [
    {
     "name": "stdout",
     "output_type": "stream",
     "text": [
      "101.61132752008092 0.14954265228435967\n"
     ]
    }
   ],
   "source": [
    "X = data.iloc[:, 0].values\n",
    "Y = data.iloc[:, 1].values\n",
    "Y = Y.reshape(-1,1)\n",
    "X = X.reshape(-1, 1)\n",
    "regressor = LinearRegression()  \n",
    "regressor.fit(X, Y)\n",
    "print(regressor.intercept_[0], regressor.coef_[0][0])"
   ]
  },
  {
   "cell_type": "markdown",
   "metadata": {},
   "source": [
    "Optimizing the cost function"
   ]
  },
  {
   "cell_type": "code",
   "execution_count": 11,
   "metadata": {},
   "outputs": [],
   "source": [
    "data = pd.read_csv('E:\\Fall 19\\Projects\\project0.7.csv')\n",
    "\n",
    "X = data.iloc[:, 0].values\n",
    "\n",
    "Y = data.iloc[:, 1].values\n",
    "\n",
    "a=0.01\n",
    "b=0.01"
   ]
  },
  {
   "cell_type": "code",
   "execution_count": 12,
   "metadata": {},
   "outputs": [],
   "source": [
    "def cost_function(coff):\n",
    "    e =[]\n",
    "    a, b = coff\n",
    "    for i in range(len(Y)):\n",
    "        e.append((Y[i] - (a + X[i]*b))**2)\n",
    "    return sum(e)"
   ]
  },
  {
   "cell_type": "code",
   "execution_count": 13,
   "metadata": {},
   "outputs": [
    {
     "name": "stdout",
     "output_type": "stream",
     "text": [
      "      fun: 110457.0485688532\n",
      " hess_inv: <2x2 LbfgsInvHessProduct with dtype=float64>\n",
      "      jac: array([-0.00145519,  0.00873115])\n",
      "  message: b'CONVERGENCE: REL_REDUCTION_OF_F_<=_FACTR*EPSMCH'\n",
      "     nfev: 78\n",
      "      nit: 17\n",
      "   status: 0\n",
      "  success: True\n",
      "        x: array([101.61146608,   0.1495426 ])\n"
     ]
    }
   ],
   "source": [
    "opt = minimize(cost_function, (a,b), method = 'L-BFGS-B', jac=None, bounds=None, tol=None, callback=None)\n",
    "print(opt)"
   ]
  }
 ],
 "metadata": {
  "kernelspec": {
   "display_name": "Python 3",
   "language": "python",
   "name": "python3"
  },
  "language_info": {
   "codemirror_mode": {
    "name": "ipython",
    "version": 3
   },
   "file_extension": ".py",
   "mimetype": "text/x-python",
   "name": "python",
   "nbconvert_exporter": "python",
   "pygments_lexer": "ipython3",
   "version": "3.7.1"
  }
 },
 "nbformat": 4,
 "nbformat_minor": 2
}
